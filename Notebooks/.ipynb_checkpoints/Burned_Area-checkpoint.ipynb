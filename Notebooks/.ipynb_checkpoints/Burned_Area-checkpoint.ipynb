{
 "cells": [
  {
   "cell_type": "code",
   "execution_count": 1,
   "id": "383bbbad",
   "metadata": {},
   "outputs": [],
   "source": [
    "# The pandas data science library that gives the 'spreadsheet'-like capabilities to python\n",
    "import pandas as pd\n",
    "# The matplotlip library is used to visualize data\n",
    "import matplotlib.pyplot as plt\n",
    "# The pathlib library is used to manage access to disk. It helps us to keep things the same between Windows and Linux\n",
    "from pathlib import Path\n",
    "# The os library is used to list and access files and directories on the hard drive\n",
    "import os\n",
    "# Numpy is the numerical library. It is used by many of the ones before, but we import it for in case\n",
    "import numpy as np\n",
    "# From Numpy we also import the nan 'missing-value' object that we use alot\n",
    "from numpy import nan\n",
    "# For fancy matching of strings, we use re\n",
    "import re\n",
    "# String libary for temporary file import\n",
    "from io import StringIO\n",
    "# Create tooltips for interactive plots\n",
    "import mpld3\n",
    "# For connecting to google sheet\n",
    "import gspread\n",
    "from oauth2client.service_account import ServiceAccountCredentials\n",
    "\n",
    "from scipy import interpolate\n",
    "from windrose import WindroseAxes\n",
    "from matplotlib.colors import BoundaryNorm\n",
    "from matplotlib.ticker import MaxNLocator\n",
    "import matplotlib.cm as cm\n",
    "\n",
    "import ipywidgets as widgets\n",
    "from ipywidgets import interact, interact_manual\n",
    "from ipywidgets import Layout\n",
    "\n",
    "import seaborn as sns\n",
    "sns.set_theme(style=\"darkgrid\")\n",
    "\n",
    "import scipy.stats\n",
    "from scipy.stats import linregress"
   ]
  },
  {
   "cell_type": "code",
   "execution_count": 2,
   "id": "8bf45d17",
   "metadata": {},
   "outputs": [],
   "source": [
    "# This 'widget' is used to give us interactive graph capabilities in the matplotlib figures\n",
    "%matplotlib widget"
   ]
  },
  {
   "cell_type": "code",
   "execution_count": 3,
   "id": "ca5e7108",
   "metadata": {},
   "outputs": [],
   "source": [
    "def head(filename,N=10):\n",
    "    n=0\n",
    "    with open(Path(filename)) as fp:\n",
    "        for l in fp.readlines():\n",
    "            if n<N:\n",
    "                print(l,end=\"\")\n",
    "                n=n+1\n",
    "                \n",
    "def clearplots():\n",
    "    plt.clf()"
   ]
  },
  {
   "cell_type": "code",
   "execution_count": null,
   "id": "c831ae37",
   "metadata": {},
   "outputs": [],
   "source": []
  },
  {
   "cell_type": "code",
   "execution_count": 4,
   "id": "8effa870",
   "metadata": {},
   "outputs": [
    {
     "ename": "NameError",
     "evalue": "name 'DataDir' is not defined",
     "output_type": "error",
     "traceback": [
      "\u001b[0;31m---------------------------------------------------------------------------\u001b[0m",
      "\u001b[0;31mNameError\u001b[0m                                 Traceback (most recent call last)",
      "\u001b[0;32m/tmp/ipykernel_167809/1920245026.py\u001b[0m in \u001b[0;36m<module>\u001b[0;34m\u001b[0m\n\u001b[0;32m----> 1\u001b[0;31m \u001b[0mos\u001b[0m\u001b[0;34m.\u001b[0m\u001b[0mlistdir\u001b[0m\u001b[0;34m(\u001b[0m\u001b[0mDataDir\u001b[0m\u001b[0;34m)\u001b[0m\u001b[0;34m\u001b[0m\u001b[0;34m\u001b[0m\u001b[0m\n\u001b[0m",
      "\u001b[0;31mNameError\u001b[0m: name 'DataDir' is not defined"
     ]
    }
   ],
   "source": [
    "os.listdir(DataDir)"
   ]
  },
  {
   "cell_type": "code",
   "execution_count": 5,
   "id": "326812a9",
   "metadata": {},
   "outputs": [],
   "source": [
    "DataDir = Path('03_Sheets/')"
   ]
  },
  {
   "cell_type": "code",
   "execution_count": 28,
   "id": "e5fc931f",
   "metadata": {},
   "outputs": [],
   "source": [
    "df01 = pd.read_csv(DataDir/'fire_2016_2016_70km.csv')"
   ]
  },
  {
   "cell_type": "code",
   "execution_count": 29,
   "id": "5925f3f4",
   "metadata": {},
   "outputs": [
    {
     "data": {
      "text/html": [
       "<div>\n",
       "<style scoped>\n",
       "    .dataframe tbody tr th:only-of-type {\n",
       "        vertical-align: middle;\n",
       "    }\n",
       "\n",
       "    .dataframe tbody tr th {\n",
       "        vertical-align: top;\n",
       "    }\n",
       "\n",
       "    .dataframe thead th {\n",
       "        text-align: right;\n",
       "    }\n",
       "</style>\n",
       "<table border=\"1\" class=\"dataframe\">\n",
       "  <thead>\n",
       "    <tr style=\"text-align: right;\">\n",
       "      <th></th>\n",
       "      <th>fire_ID</th>\n",
       "      <th>lat</th>\n",
       "      <th>lon</th>\n",
       "      <th>size</th>\n",
       "      <th>start_date</th>\n",
       "      <th>end_date</th>\n",
       "      <th>duration</th>\n",
       "      <th>landcover_</th>\n",
       "    </tr>\n",
       "  </thead>\n",
       "  <tbody>\n",
       "    <tr>\n",
       "      <th>0</th>\n",
       "      <td>590178</td>\n",
       "      <td>-25.2729</td>\n",
       "      <td>28.2961</td>\n",
       "      <td>1.29</td>\n",
       "      <td>2013-09-30</td>\n",
       "      <td>2013-10-01</td>\n",
       "      <td>2</td>\n",
       "      <td>Savannas</td>\n",
       "    </tr>\n",
       "    <tr>\n",
       "      <th>1</th>\n",
       "      <td>590266</td>\n",
       "      <td>-25.3271</td>\n",
       "      <td>28.3042</td>\n",
       "      <td>1.29</td>\n",
       "      <td>2013-09-17</td>\n",
       "      <td>2013-09-20</td>\n",
       "      <td>4</td>\n",
       "      <td>Open shrublands</td>\n",
       "    </tr>\n",
       "    <tr>\n",
       "      <th>2</th>\n",
       "      <td>590294</td>\n",
       "      <td>-25.3563</td>\n",
       "      <td>28.3156</td>\n",
       "      <td>1.29</td>\n",
       "      <td>2013-10-17</td>\n",
       "      <td>2013-10-17</td>\n",
       "      <td>1</td>\n",
       "      <td>Grasslands</td>\n",
       "    </tr>\n",
       "    <tr>\n",
       "      <th>3</th>\n",
       "      <td>590324</td>\n",
       "      <td>-25.3729</td>\n",
       "      <td>28.1119</td>\n",
       "      <td>1.71</td>\n",
       "      <td>2013-08-04</td>\n",
       "      <td>2013-08-07</td>\n",
       "      <td>4</td>\n",
       "      <td>Croplands</td>\n",
       "    </tr>\n",
       "    <tr>\n",
       "      <th>4</th>\n",
       "      <td>590323</td>\n",
       "      <td>-25.3771</td>\n",
       "      <td>28.0944</td>\n",
       "      <td>1.07</td>\n",
       "      <td>2013-07-31</td>\n",
       "      <td>2013-07-31</td>\n",
       "      <td>1</td>\n",
       "      <td>Croplands</td>\n",
       "    </tr>\n",
       "  </tbody>\n",
       "</table>\n",
       "</div>"
      ],
      "text/plain": [
       "   fire_ID      lat      lon  size  start_date    end_date  duration  \\\n",
       "0   590178 -25.2729  28.2961  1.29  2013-09-30  2013-10-01         2   \n",
       "1   590266 -25.3271  28.3042  1.29  2013-09-17  2013-09-20         4   \n",
       "2   590294 -25.3563  28.3156  1.29  2013-10-17  2013-10-17         1   \n",
       "3   590324 -25.3729  28.1119  1.71  2013-08-04  2013-08-07         4   \n",
       "4   590323 -25.3771  28.0944  1.07  2013-07-31  2013-07-31         1   \n",
       "\n",
       "        landcover_  \n",
       "0         Savannas  \n",
       "1  Open shrublands  \n",
       "2       Grasslands  \n",
       "3        Croplands  \n",
       "4        Croplands  "
      ]
     },
     "execution_count": 29,
     "metadata": {},
     "output_type": "execute_result"
    }
   ],
   "source": [
    "df01.head()"
   ]
  },
  {
   "cell_type": "code",
   "execution_count": 30,
   "id": "60f2107c",
   "metadata": {},
   "outputs": [],
   "source": [
    "df01 = df01.sort_values(by='start_date')"
   ]
  },
  {
   "cell_type": "code",
   "execution_count": 31,
   "id": "8d6b8967",
   "metadata": {},
   "outputs": [
    {
     "data": {
      "text/html": [
       "<div>\n",
       "<style scoped>\n",
       "    .dataframe tbody tr th:only-of-type {\n",
       "        vertical-align: middle;\n",
       "    }\n",
       "\n",
       "    .dataframe tbody tr th {\n",
       "        vertical-align: top;\n",
       "    }\n",
       "\n",
       "    .dataframe thead th {\n",
       "        text-align: right;\n",
       "    }\n",
       "</style>\n",
       "<table border=\"1\" class=\"dataframe\">\n",
       "  <thead>\n",
       "    <tr style=\"text-align: right;\">\n",
       "      <th></th>\n",
       "      <th>fire_ID</th>\n",
       "      <th>lat</th>\n",
       "      <th>lon</th>\n",
       "      <th>size</th>\n",
       "      <th>start_date</th>\n",
       "      <th>end_date</th>\n",
       "      <th>duration</th>\n",
       "      <th>landcover_</th>\n",
       "    </tr>\n",
       "  </thead>\n",
       "  <tbody>\n",
       "    <tr>\n",
       "      <th>345</th>\n",
       "      <td>592076</td>\n",
       "      <td>-26.1354</td>\n",
       "      <td>27.5686</td>\n",
       "      <td>0.86</td>\n",
       "      <td>2013-03-14</td>\n",
       "      <td>2013-03-19</td>\n",
       "      <td>6</td>\n",
       "      <td>Savannas</td>\n",
       "    </tr>\n",
       "    <tr>\n",
       "      <th>499</th>\n",
       "      <td>592693</td>\n",
       "      <td>-26.3729</td>\n",
       "      <td>28.0578</td>\n",
       "      <td>3.43</td>\n",
       "      <td>2013-03-24</td>\n",
       "      <td>2013-04-01</td>\n",
       "      <td>9</td>\n",
       "      <td>Savannas</td>\n",
       "    </tr>\n",
       "    <tr>\n",
       "      <th>521</th>\n",
       "      <td>592784</td>\n",
       "      <td>-26.4062</td>\n",
       "      <td>28.0659</td>\n",
       "      <td>0.86</td>\n",
       "      <td>2013-03-24</td>\n",
       "      <td>2013-03-24</td>\n",
       "      <td>1</td>\n",
       "      <td>Grasslands</td>\n",
       "    </tr>\n",
       "    <tr>\n",
       "      <th>330</th>\n",
       "      <td>592002</td>\n",
       "      <td>-26.1063</td>\n",
       "      <td>27.6175</td>\n",
       "      <td>0.21</td>\n",
       "      <td>2013-04-01</td>\n",
       "      <td>2013-04-01</td>\n",
       "      <td>1</td>\n",
       "      <td>Savannas</td>\n",
       "    </tr>\n",
       "    <tr>\n",
       "      <th>513</th>\n",
       "      <td>592753</td>\n",
       "      <td>-26.3896</td>\n",
       "      <td>28.0665</td>\n",
       "      <td>0.21</td>\n",
       "      <td>2013-04-02</td>\n",
       "      <td>2013-04-02</td>\n",
       "      <td>1</td>\n",
       "      <td>Savannas</td>\n",
       "    </tr>\n",
       "  </tbody>\n",
       "</table>\n",
       "</div>"
      ],
      "text/plain": [
       "     fire_ID      lat      lon  size  start_date    end_date  duration  \\\n",
       "345   592076 -26.1354  27.5686  0.86  2013-03-14  2013-03-19         6   \n",
       "499   592693 -26.3729  28.0578  3.43  2013-03-24  2013-04-01         9   \n",
       "521   592784 -26.4062  28.0659  0.86  2013-03-24  2013-03-24         1   \n",
       "330   592002 -26.1063  27.6175  0.21  2013-04-01  2013-04-01         1   \n",
       "513   592753 -26.3896  28.0665  0.21  2013-04-02  2013-04-02         1   \n",
       "\n",
       "     landcover_  \n",
       "345    Savannas  \n",
       "499    Savannas  \n",
       "521  Grasslands  \n",
       "330    Savannas  \n",
       "513    Savannas  "
      ]
     },
     "execution_count": 31,
     "metadata": {},
     "output_type": "execute_result"
    }
   ],
   "source": [
    "df01.head()"
   ]
  },
  {
   "cell_type": "code",
   "execution_count": 32,
   "id": "0be8890f",
   "metadata": {},
   "outputs": [],
   "source": [
    "df02 = pd.read_csv(DataDir/'radarlog01.csv',names=['radardate'])"
   ]
  },
  {
   "cell_type": "code",
   "execution_count": 33,
   "id": "13548f30",
   "metadata": {},
   "outputs": [],
   "source": [
    "x = df02['radardate'].to_list()"
   ]
  },
  {
   "cell_type": "code",
   "execution_count": 34,
   "id": "cc76716b",
   "metadata": {},
   "outputs": [],
   "source": [
    "date = [ d for d in df01['start_date'] if d in x]"
   ]
  },
  {
   "cell_type": "code",
   "execution_count": 65,
   "id": "822614a6",
   "metadata": {},
   "outputs": [],
   "source": [
    "df = pd.DataFrame(date,columns=[\"colummn\"])"
   ]
  },
  {
   "cell_type": "code",
   "execution_count": 67,
   "id": "cb7944df",
   "metadata": {},
   "outputs": [],
   "source": [
    "df.to_csv('date.csv',index=False)"
   ]
  },
  {
   "cell_type": "code",
   "execution_count": null,
   "id": "7174c5a7",
   "metadata": {},
   "outputs": [],
   "source": []
  },
  {
   "cell_type": "code",
   "execution_count": 72,
   "id": "e9badc45",
   "metadata": {},
   "outputs": [],
   "source": [
    "df = df01.loc[df01['start_date'].isin(date)]"
   ]
  },
  {
   "cell_type": "code",
   "execution_count": 76,
   "id": "67cc8ec8",
   "metadata": {},
   "outputs": [],
   "source": [
    "df.to_csv('Global_Fire_Atlas_2013_2016_Irene_Radar.csv',sep=\",\")"
   ]
  },
  {
   "cell_type": "code",
   "execution_count": 80,
   "id": "1166478d",
   "metadata": {},
   "outputs": [],
   "source": [
    "df['fire_ID'].to_csv('fireID.csv',index=False,sep=\",\")"
   ]
  },
  {
   "cell_type": "code",
   "execution_count": null,
   "id": "80617bf7",
   "metadata": {},
   "outputs": [],
   "source": []
  }
 ],
 "metadata": {
  "kernelspec": {
   "display_name": "Python [conda env:conda-python3-env] *",
   "language": "python",
   "name": "conda-env-conda-python3-env-py"
  },
  "language_info": {
   "codemirror_mode": {
    "name": "ipython",
    "version": 3
   },
   "file_extension": ".py",
   "mimetype": "text/x-python",
   "name": "python",
   "nbconvert_exporter": "python",
   "pygments_lexer": "ipython3",
   "version": "3.9.7"
  }
 },
 "nbformat": 4,
 "nbformat_minor": 5
}
